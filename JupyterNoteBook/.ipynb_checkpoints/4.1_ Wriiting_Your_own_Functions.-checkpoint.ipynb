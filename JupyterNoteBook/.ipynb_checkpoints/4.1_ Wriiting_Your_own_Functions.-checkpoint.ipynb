{
 "cells": [
  {
   "cell_type": "code",
   "execution_count": 1,
   "id": "85f8fd93",
   "metadata": {},
   "outputs": [],
   "source": [
    "# Lets Define a function who square a number.\n"
   ]
  },
  {
   "cell_type": "code",
   "execution_count": 2,
   "id": "0f1e52b9",
   "metadata": {},
   "outputs": [],
   "source": [
    "def square(value):             # Function Header and insight is a parameter.\n",
    "                               # def is keyword use to define function.\n",
    "    new_value = value**2       # This is called function Body.\n",
    "    return new_value          # we use return keyword when we want to store \n",
    "                              # our result for future\n",
    "    "
   ]
  },
  {
   "cell_type": "code",
   "execution_count": 7,
   "id": "78618129",
   "metadata": {},
   "outputs": [],
   "source": [
    "num = square(5)      # to call function we write function name and pass argument.\n",
    "                     # here we are storing function output into a variable \n",
    "                     # this is just because of return variable."
   ]
  },
  {
   "cell_type": "code",
   "execution_count": 8,
   "id": "e25c075b",
   "metadata": {},
   "outputs": [
    {
     "name": "stdout",
     "output_type": "stream",
     "text": [
      "25\n"
     ]
    }
   ],
   "source": [
    "print(num)"
   ]
  },
  {
   "cell_type": "raw",
   "id": "4779e365",
   "metadata": {},
   "source": [
    "## Doc String:\n",
    "     \"\"\" this is a document which defines whats function operation\"\"\""
   ]
  },
  {
   "cell_type": "code",
   "execution_count": 15,
   "id": "01ad5f98",
   "metadata": {},
   "outputs": [],
   "source": [
    "def cube(val):\n",
    "    ''' This function cube the given number. '''\n",
    "    new_val = val**3\n",
    "    return new_val"
   ]
  },
  {
   "cell_type": "code",
   "execution_count": 16,
   "id": "61f7f144",
   "metadata": {},
   "outputs": [
    {
     "data": {
      "text/plain": [
       "125"
      ]
     },
     "execution_count": 16,
     "metadata": {},
     "output_type": "execute_result"
    }
   ],
   "source": [
    "cube(5)      # we can read doc string with typing shift+tab in parenthesis. "
   ]
  },
  {
   "cell_type": "markdown",
   "id": "18fd41cf",
   "metadata": {},
   "source": [
    "### Difference between parameter and argument in function. \n",
    "\n",
    "1. Parameter is a text which we pass in function header when we defining a function.\n",
    "\n",
    "2. Argument is a text which we pass when we call a function.\n",
    "\n",
    "3. In the above example the word **'val'** is a parameter while **5** is an Argument."
   ]
  },
  {
   "cell_type": "markdown",
   "id": "8d6cef0a",
   "metadata": {},
   "source": [
    "### Multiple Parameter and Return Values. "
   ]
  },
  {
   "cell_type": "code",
   "execution_count": 22,
   "id": "4e026ee1",
   "metadata": {},
   "outputs": [],
   "source": [
    "def power(x1,y1):\n",
    "    '''Return x1 power y1 and y1 power x1 respectively'''\n",
    "    val_x1 = x1**y1\n",
    "    val_y1  = y1**x1\n",
    "    val_tup = (val_x1,val_y1)\n",
    "    return val_tup\n"
   ]
  },
  {
   "cell_type": "code",
   "execution_count": 23,
   "id": "9bd3baca",
   "metadata": {},
   "outputs": [
    {
     "name": "stdout",
     "output_type": "stream",
     "text": [
      "(8, 9)\n"
     ]
    }
   ],
   "source": [
    "z1 = power(2,3)\n",
    "print(z1)"
   ]
  },
  {
   "cell_type": "code",
   "execution_count": 24,
   "id": "f1fea05a",
   "metadata": {},
   "outputs": [
    {
     "data": {
      "text/plain": [
       "(1024, 625)"
      ]
     },
     "execution_count": 24,
     "metadata": {},
     "output_type": "execute_result"
    }
   ],
   "source": [
    "power(4,5)"
   ]
  },
  {
   "cell_type": "code",
   "execution_count": null,
   "id": "9f993c3e",
   "metadata": {},
   "outputs": [],
   "source": []
  },
  {
   "cell_type": "code",
   "execution_count": null,
   "id": "aa7cdfb0",
   "metadata": {},
   "outputs": [],
   "source": []
  }
 ],
 "metadata": {
  "kernelspec": {
   "display_name": "Python 3 (ipykernel)",
   "language": "python",
   "name": "python3"
  },
  "language_info": {
   "codemirror_mode": {
    "name": "ipython",
    "version": 3
   },
   "file_extension": ".py",
   "mimetype": "text/x-python",
   "name": "python",
   "nbconvert_exporter": "python",
   "pygments_lexer": "ipython3",
   "version": "3.9.12"
  }
 },
 "nbformat": 4,
 "nbformat_minor": 5
}
